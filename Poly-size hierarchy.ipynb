{
 "cells": [
  {
   "cell_type": "markdown",
   "metadata": {},
   "source": [
    "# Poly-size hierarchy of two-way finite automata"
   ]
  },
  {
   "cell_type": "markdown",
   "metadata": {
    "collapsed": true
   },
   "source": [
    "## Intro\n",
    "\n",
    "The polynomial-hierarchy is well known hierarchy of classes defined for turing machines. For turing machines, the polynomial hierarchy is defined using three concepts: 1. Oracle 2. Relations 3. Alternating turing machines.\n",
    "\n",
    "When we want to consider the analogy of polynomial hierarchy within two-way finite automata, we are interested in *polysize hierarchy.* In the world of finite automata, concept of time bear little meaning because all computations are done in polynomial time. What is interesting, however, is the size of the automata. We are interested in automata that have small number of states, and thus, we explore the context of \"polysize hierarhcy,\" where the two-way finite automata can only have polynomial number of states.\n",
    "\n",
    "The polysize hierarchy has been defined in terms of relations and alternating turing machines. It hasn't been defined in terms of oracles yet. Goal of this research is to define polysize hierarchy in terms of oracles.\n",
    "\n",
    "###\n",
    "\n",
    "**Two way deterministic finite automata:** We define a two way deterministic finite automata, a 2DFA formall with the following characterization:\n",
    "\n",
    "$$ M = (Q,\\Sigma,\\delta,q_0,q_{accept}) $$\n",
    "\n",
    "\n",
    "$$ \\text {Q is the set of states, } \\Sigma \\text{ is the alphabet, } \\delta \\text { is the tranisition function, q_0 is the initial state, q_accept is the accepting final state} $$\n",
    "\n",
    "\n",
    "$$ \\delta: Q\\times(\\Sigma\\cup\\{ \\vdash, \\dashv\\}) \\rightarrow Q\\times\\{L,R\\} $$\n",
    "$$ \\vdash,\\dashv \\text{ are left end and right end markers respectively} $$\n",
    "\n",
    "\n",
    "Example problem to be discussed to observer exponential blowup in size going from 2DFA to 1DFA: \n",
    "\n",
    "**Membership <sup> R</sup> **\n",
    "\n",
    "$$ \\vdash \\boxed{\\alpha | i} \\dashv \\text { check whether i exists in } \\alpha $$\n",
    "\n",
    "2DFA needs h+1 states, 1DFA needs > 2<sup>h+1</sup> states. \n",
    "\n",
    "*process needs to be explained**\n",
    "\n",
    "** Two-way liveness **\n",
    "\n",
    "Two way liveness is a language where input is a string that represents a graph, a string is in the language if there is a path from a node in the left most column to a node in the rightmost column.\n",
    "\n",
    "Two-way liveness can easily be solved by a 2NFA with polynomial number of states.\n",
    "\n",
    "$$ \\text{Two-way liveness is clearly in } 2\\Sigma_1  $$\n",
    "\n",
    "*needs more explanation*\n",
    "\n",
    "\n",
    "\n",
    "** Extension of two-way liveness **\n",
    "\n",
    "In order to explore higher levels of the polysize hierarchy, we explore extension of two-way liveness. \n",
    "\n",
    "$$ \\text {Let us define a new problem, } \\exists\\forall TWL $$ \n",
    "\n",
    "First, we define a term **RLIVE**\n",
    "\n",
    "We say a node u is **RLIVE** if :\n",
    "1. u is a rightmost node \n",
    "2. u is an existential node and one of its children is **RLIVE**\n",
    "3. u is a universal node and all of its children are **RLIVE**\n",
    "\n",
    "Now we attempt to define our problem:\n",
    "\n",
    "\n",
    "\n",
    "\n",
    "\n",
    "\n",
    "\n",
    "\n",
    "\n"
   ]
  },
  {
   "cell_type": "code",
   "execution_count": null,
   "metadata": {
    "collapsed": true
   },
   "outputs": [],
   "source": []
  }
 ],
 "metadata": {
  "kernelspec": {
   "display_name": "Python 2",
   "language": "python",
   "name": "python2"
  },
  "language_info": {
   "codemirror_mode": {
    "name": "ipython",
    "version": 2
   },
   "file_extension": ".py",
   "mimetype": "text/x-python",
   "name": "python",
   "nbconvert_exporter": "python",
   "pygments_lexer": "ipython2",
   "version": "2.7.12"
  }
 },
 "nbformat": 4,
 "nbformat_minor": 2
}
